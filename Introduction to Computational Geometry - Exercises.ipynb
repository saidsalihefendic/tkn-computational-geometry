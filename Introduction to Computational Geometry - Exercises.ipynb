{
 "cells": [
  {
   "cell_type": "markdown",
   "metadata": {},
   "source": [
    "# Introduction to Computational Geometry Exercises"
   ]
  },
  {
   "cell_type": "markdown",
   "metadata": {},
   "source": [
    "**1.1** The convex hull of a set S is defined to be the intersection of all convex sets that contain S. For the convex hull of a set of points it was indicated that the convex hull is the convex set with smallest perimeter. We want to show that these are equivalent definitions."
   ]
  },
  {
   "cell_type": "markdown",
   "metadata": {},
   "source": [
    "_a) Prove that the intersection of two convex sets is again convex. This implies that the intersection of a finite family of convex sets is convex as well._"
   ]
  },
  {
   "cell_type": "markdown",
   "metadata": {},
   "source": [
    "We first define the meaning of a convex set. A convex set $P$ is a set with a property\n",
    "\n",
    "$$\\alpha p + (1 - \\alpha)q \\in P, p, q \\in P, \\forall \\alpha \\in [0, 1]$$\n",
    "\n",
    "This means that for every point $p, q \\in P$, the line $\\overline{pq}$ is fully contained in convex set P.\n",
    "\n",
    "Let's assume the opposite that for convex sets $A, B$ we get the set $A \\cap B$ that is not convex. From definition of convex sets, that means there exists at least two points $x_1, x_2 \\in A \\cap B$ that doesn't satisfy the property for convex sets for some $k \\in [0, 1]$, thus\n",
    "\n",
    "$$ x_1, x_2 \\in A \\cap B \\ \\Rightarrow \\ kx_1 + (1 - k)x_2 \\notin A \\cap B, k \\in [0, 1] $$\n",
    "\n",
    "Since\n",
    "\n",
    "$$ x_1, x_2 \\in A \\cap B \\Rightarrow x_1, x_2 \\in A \\land x_1, x_2 \\in B\\ (1)$$\n",
    "\n",
    "and\n",
    "\n",
    "$$ kx_1 + (1 - k)x_2 \\notin A \\cap B$$\n",
    "$$ \\Rightarrow kx_1 + (1 - k)x_2 \\notin A \\lor kx_1 + (1 - k)x_2 \\notin B, k \\in [0, 1]\\ (2)$$\n",
    "\n",
    "Now we have a condition that for (1) to be satisfied, it has to satisfy the (2), which implies that either A or B must be non-convex for $A \\cap B$ to be non-convex. But that is impossible, since $A$ and $B$ are convex and $x_1, x_2$ are from $A$ and $B$. We got the contradiction from the assumption that $A \\cap B$ is non-convex, so $A \\cap B$ has to be convex. $\\blacksquare$"
   ]
  },
  {
   "cell_type": "markdown",
   "metadata": {},
   "source": [
    "This result from 1.1.a implies that for a finite family of convex sets, if we observe their intersections, we will always get another convex set."
   ]
  },
  {
   "cell_type": "markdown",
   "metadata": {},
   "source": [
    "---------------------------------------"
   ]
  },
  {
   "cell_type": "markdown",
   "metadata": {},
   "source": [
    "_b) Prove that the smallest perimeter polygon $A$ containing a set of points P is convex._\n",
    "\n",
    "Let's assume the opposite that the smallest perimeter polygon $A$ is non-convex. We can observe the polygon $A$ as any other set. Because it is non-convex, there exists at least two points $x_1, x_2 \\in A$ that don't satisfy the convex property for all $k \\in (0, 1)$, thus\n",
    "\n",
    "$$kx_1 + (1 - k)x_2 \\notin P, x_1, x_2 \\in P, \\forall k \\in (0, 1)$$\n",
    "\n",
    "We can interpret this as if we can connect two points with a line that goes out of the boundaries of the polygon, it means it is not convex. It is important to find two points which line that connects them is completely out of the polygon, excluding $x_1$ and $x_2$. Let's connect those two points and form a new edge that will form a new polygon $Q$ from $A$ with an edge $\\overline{x_1x_2}$ and observe it's perimeter.\n",
    "\n",
    "The polygon $Q$ we have constructed this way contains the set of points $P$, which is easy to show, since we have connected outside of the polygon, it must contain the polygon $A$ and thus it contains the set of points $P$. \n",
    "\n",
    "Since we have connected the points $x_1, x_2 \\in A$ and it's segment $\\overline{x_1x_2}$ goes out of boundaries of polygon, there must exist at least one vertex from polygon $A$ namely $y$ that lies between $x_1$ and $x_2$. Of course, there can be as many points as we want between $x_1$ and $x_2$, but the basic idea remains the same, so we will just observe one of those vertices. If we have edges $\\overline{x_1y}$ and $\\overline{yx_2}$ from polygon $A$, it's sum is included in its perimeter. But, if we observe the polygon $Q$, which has only the difference from $A$ that it's $x_1$ and $x_2$ points are now directly forming the edge instead with other vertex $y$ after $x_1$ and before $x_2$, we can now form a triangle $\\triangle x_1yx_2$ and we get the triangle inequality\n",
    "\n",
    "$$|\\overline{x_1x_2}| \\lt |\\overline{x_1y}| + |\\overline{yx_2}|$$\n",
    "\n",
    "With this, if we look at the differences of the perimeters of $A$ and $Q$\n",
    "\n",
    "$$|A| - |Q| = |\\overline{x_1y}| + |\\overline{yx_2}| - |\\overline{x_1x_2}| \\gt 0$$\n",
    "\n",
    "Since $A$ and $Q$ share all other edges, we get that their differences is greater than 0 because of the way we constructed $Q$. That means the polygon $Q$ has smaller perimeter than polygon $A$, which is impossible, since polygon $A$ is, by assumption, the polygon with smallest perimeter that contains $P$. We got the contradiction from the assumption that polygon with smallest perimeter is not convex, so it has to be convex. $\\blacksquare$"
   ]
  },
  {
   "cell_type": "markdown",
   "metadata": {},
   "source": [
    "---------------------------------------"
   ]
  },
  {
   "cell_type": "markdown",
   "metadata": {},
   "source": [
    "_c) Prove that any convex set containing the set of points P contains the smallest perimeter polygon P._"
   ]
  },
  {
   "cell_type": "markdown",
   "metadata": {},
   "source": [
    "Let us observe one arbitrary convex set $C$ from family of convex sets that contains the set of points $P$. Since the polygon with smallest perimeter contains the set of points $P$ and it's vertices are from $P$, then convex set $C$ must contain the polygon with smallest perimeter that contains $P$ as a consequence to the previous exercise. Since we have picked $C$ arbitrarily from family of convex sets that contain set of points $P$, it implies that any convex set containing the set of points $P$ must contain the polygon with smallest perimeter that contains the set of points $P$. $\\blacksquare$"
   ]
  }
 ],
 "metadata": {
  "kernelspec": {
   "display_name": "Python 3",
   "language": "python",
   "name": "python3"
  },
  "language_info": {
   "codemirror_mode": {
    "name": "ipython",
    "version": 3
   },
   "file_extension": ".py",
   "mimetype": "text/x-python",
   "name": "python",
   "nbconvert_exporter": "python",
   "pygments_lexer": "ipython3",
   "version": "3.7.5"
  }
 },
 "nbformat": 4,
 "nbformat_minor": 2
}
